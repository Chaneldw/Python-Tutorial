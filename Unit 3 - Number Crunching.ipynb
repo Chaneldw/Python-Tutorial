{
 "cells": [
  {
   "cell_type": "markdown",
   "metadata": {},
   "source": [
    "# NumPy Calculations\n",
    "\n",
    "Although `lambda` is much faster than the conventional for loop, there is something even faster: NumPy arrays! The NumPy package (numerical Python) provides access to a new data structure called arrays which allow efficient linear algebra (vector and matrix) operations. \n",
    "\n",
    "#### Contents:\n",
    "1. [Vectors (1D)](#vec)\n",
    "    * Array characteristics\n",
    "    * Creating and using arrays\n",
    "    * Growing arrays\n",
    "    * Exercise 3.1\n",
    "2. [Matrices (2D)](#mat)\n",
    "    * Indexing matrices\n",
    "    * Basic matrix operations\n",
    "3. [Linear algebra](#linalg)\n",
    "4. [Polynomials](#poly)\n",
    "    * Exercise 3.2"
   ]
  },
  {
   "cell_type": "code",
   "execution_count": null,
   "metadata": {},
   "outputs": [],
   "source": [
    "import numpy as np"
   ]
  },
  {
   "cell_type": "markdown",
   "metadata": {},
   "source": [
    "## Vectors (1D) <a name=\"vec\"></a> \n",
    "\n",
    "### Array characteristics\n",
    "\n",
    "An array appears to be very similar to a list, but an array can keep only elements of the same type (whereas a list can mix dfferent kinds of objects). This means arrays are more eﬃcient to store (because we don’t need to store the type for every element). It also makes arrays the data structure of choice for numerical calculations where we often deal with vectors and matrices."
   ]
  },
  {
   "cell_type": "code",
   "execution_count": null,
   "metadata": {},
   "outputs": [],
   "source": [
    "x1 = np.array([1, 2, 3])\n",
    "x1"
   ]
  },
  {
   "cell_type": "code",
   "execution_count": null,
   "metadata": {},
   "outputs": [],
   "source": [
    "type(x1)\n",
    "# The nd refers to n-dimensional"
   ]
  },
  {
   "cell_type": "code",
   "execution_count": null,
   "metadata": {},
   "outputs": [],
   "source": [
    "# Indexing and slicing is still the same\n",
    "x1[1:3]"
   ]
  },
  {
   "cell_type": "markdown",
   "metadata": {},
   "source": [
    "If you use help on the array, you'll see this for the data type keyword argument:\n",
    "> If not given, then the type will\n",
    "  be determined as the minimum type required to hold the objects in the\n",
    "  sequence: "
   ]
  },
  {
   "cell_type": "code",
   "execution_count": null,
   "metadata": {},
   "outputs": [],
   "source": [
    "# If you include 1 float, all integers will become floats\n",
    "x2 = np.array([4, 5, 6.0])\n",
    "x2"
   ]
  },
  {
   "cell_type": "code",
   "execution_count": null,
   "metadata": {},
   "outputs": [],
   "source": [
    "# Likewise, all objects here become strings\n",
    "x3 = np.array([1, 1.5, '2'])\n",
    "x3"
   ]
  },
  {
   "cell_type": "code",
   "execution_count": null,
   "metadata": {},
   "outputs": [],
   "source": [
    "# You can still convert between lists and arrays\n",
    "list(x3)"
   ]
  },
  {
   "cell_type": "markdown",
   "metadata": {},
   "source": [
    "Unlike scalars, arrays have a _shape_. The elements of the shape tuple give the lengths of the corresponding array dimensions."
   ]
  },
  {
   "cell_type": "code",
   "execution_count": null,
   "metadata": {},
   "outputs": [],
   "source": [
    "np.shape(x3)\n",
    "# This vector contains 3 elements"
   ]
  },
  {
   "cell_type": "markdown",
   "metadata": {},
   "source": [
    "The biggest (and most useful) difference between arrays and lists are that you can apply a calculation to every number in the sequence with one statement!\n",
    "\n",
    "This simple example illustrates _broadcasting_. Instead of duplicating the object (as with lists), every element in the array participates in the multiplication. Two dimensions are compatible when they have exactly the same shape, or one of them has a shape of 1."
   ]
  },
  {
   "cell_type": "code",
   "execution_count": null,
   "metadata": {},
   "outputs": [],
   "source": [
    "x1*2"
   ]
  },
  {
   "cell_type": "code",
   "execution_count": null,
   "metadata": {},
   "outputs": [],
   "source": [
    "x1*np.array([2, 2, 2])\n",
    "# This also works, but it is less computationally efficient"
   ]
  },
  {
   "cell_type": "markdown",
   "metadata": {},
   "source": [
    "We use `math` if to do simple comutations with only scalars, but `numpy` for lists, matrices, arrays, or large datasets. It also contains the same functions (and more)."
   ]
  },
  {
   "cell_type": "code",
   "execution_count": null,
   "metadata": {},
   "outputs": [],
   "source": [
    "np.sin(x1) + np.cos(x2)"
   ]
  },
  {
   "cell_type": "code",
   "execution_count": null,
   "metadata": {},
   "outputs": [],
   "source": [
    "# Mathematical constants\n",
    "print(np.pi)\n",
    "print(np.e)\n",
    "print(np.inf) # infinity\n",
    "print(np.nan) # not a number, e.g. np.log(-1)"
   ]
  },
  {
   "cell_type": "markdown",
   "metadata": {},
   "source": [
    "### Creating and using arrays\n",
    "\n",
    "There are other ways to create arrays. Instead of using `range()`, we'll use `numpy.arange()`. You can also specify the number of values and their spacing, or use the built-in random subpackage for random values."
   ]
  },
  {
   "cell_type": "code",
   "execution_count": null,
   "metadata": {
    "scrolled": true
   },
   "outputs": [],
   "source": [
    "a1 = np.arange(0, 10, 2) # creates values in steps of 2\n",
    "a2 = np.linspace(0, 10, 5) # 5 values linearly spaced\n",
    "a3 = np.logspace(0, 10, 5) # 5 values logarithmically spaced\n",
    "\n",
    "a4 = np.random.rand(5) # uniform in [0, 1]\n",
    "a5 = np.random.randn(5) # Gaussian\n",
    "\n",
    "print(a1, '\\n',a2, '\\n', a3, '\\n', a4, '\\n', a5, '\\n')"
   ]
  },
  {
   "cell_type": "markdown",
   "metadata": {},
   "source": [
    "Here are some array attributes. Some are very useful for statistics:"
   ]
  },
  {
   "cell_type": "code",
   "execution_count": null,
   "metadata": {},
   "outputs": [],
   "source": [
    "vec = np.arange(2, 11.0) # If any value is an int, the array will only contain integers\n",
    "vec"
   ]
  },
  {
   "cell_type": "code",
   "execution_count": null,
   "metadata": {},
   "outputs": [],
   "source": [
    "vec.mean()"
   ]
  },
  {
   "cell_type": "code",
   "execution_count": null,
   "metadata": {},
   "outputs": [],
   "source": [
    "# Standard deviation\n",
    "vec.std()"
   ]
  },
  {
   "cell_type": "code",
   "execution_count": null,
   "metadata": {},
   "outputs": [],
   "source": [
    "print(vec.max())\n",
    "print(max(vec)) # This also works"
   ]
  },
  {
   "cell_type": "code",
   "execution_count": null,
   "metadata": {},
   "outputs": [],
   "source": [
    "# Return indices of the maximum values along the given axis.\n",
    "vec.argmax()"
   ]
  },
  {
   "cell_type": "markdown",
   "metadata": {},
   "source": [
    "<span style=\"color:red\"> **Warning:** </span> A shallow copy of an array can't be created by slicing."
   ]
  },
  {
   "cell_type": "code",
   "execution_count": null,
   "metadata": {},
   "outputs": [],
   "source": [
    "import copy\n",
    "\n",
    "a = np.array([1, 2, 3, 4])\n",
    "\n",
    "b = a.copy()\n",
    "c = a[:]\n",
    "d = np.array(a)\n",
    "e = copy.copy(a)\n",
    "f = copy.deepcopy(a)\n",
    "\n",
    "a[-1] = 49\n",
    "\n",
    "print('original: %r\\n ndarray.copy(): %r\\n slice: %r\\n array(): %r\\n copy: %r\\n deepcopy: %r'\n",
    "      % (a, b, c, d, e, f))"
   ]
  },
  {
   "cell_type": "markdown",
   "metadata": {},
   "source": [
    "### Growing arrays\n",
    "\n",
    "<span style=\"color:red\"> **Warning:** </span> When appending only once, using `np.append` on your array should be fine. The drawback of this approach is that memory is allocated for a *completely new array* every time it is called. When growing an array for a significant amount of samples it would be better to either:\n",
    " + append to a list and convert to an array afterward or,\n",
    " + pre-allocate the array (if the total size is known) e.g. by making an array of only ones or zeros.\n",
    " \n",
    "(Answer on https://stackoverflow.com/questions/7332841/add-single-element-to-array-in-numpy)"
   ]
  },
  {
   "cell_type": "code",
   "execution_count": null,
   "metadata": {},
   "outputs": [],
   "source": [
    "# Try to avoid doing this repeatedly:\n",
    "x = np.array([10, 20, 30])\n",
    "x = np.append(x, [40, 50, 60])\n",
    "x"
   ]
  },
  {
   "cell_type": "code",
   "execution_count": null,
   "metadata": {},
   "outputs": [],
   "source": [
    "# Also try to avoid stacking repeatedly:\n",
    "print(np.hstack([x, x])) \n",
    "print(np.vstack([x, x]))"
   ]
  },
  {
   "cell_type": "code",
   "execution_count": null,
   "metadata": {},
   "outputs": [],
   "source": [
    "lys = []\n",
    "for i in range(10000):\n",
    "    lys.append(i)\n",
    "arr = np.array(lys)\n",
    "arr"
   ]
  },
  {
   "cell_type": "code",
   "execution_count": null,
   "metadata": {},
   "outputs": [],
   "source": [
    "# Make an array of the correct length, consisting only of zeros, then change every value in the loop\n",
    "n = 10000\n",
    "arr = np.zeros(n)\n",
    "print(arr)\n",
    "\n",
    "for i in range(n):\n",
    "    arr[i] = i\n",
    "arr"
   ]
  },
  {
   "cell_type": "code",
   "execution_count": null,
   "metadata": {},
   "outputs": [],
   "source": [
    "print(np.zeros(5))\n",
    "print(np.ones(5))\n",
    "print(np.full(5, 23)) # shape of 5, value of 23\n",
    "print('')\n",
    "\n",
    "print(x) # defined 4 cells prior\n",
    "print(np.zeros_like(x))\n",
    "print(np.ones_like(x))\n",
    "print(np.full_like(x, 43))"
   ]
  },
  {
   "cell_type": "markdown",
   "metadata": {},
   "source": [
    "### <span style=\"color:blue\"> Exercise 3.1 </span> "
   ]
  },
  {
   "cell_type": "markdown",
   "metadata": {},
   "source": [
    "## Matrices (2D) <a name=\"mat\"></a> \n",
    "\n",
    "Matrices are essentially 2-dimensional arrays. Here are 5 ways to create them:\n",
    " + Turning nested lists into an array (where each list is a row)\n",
    " + Creating a matrix of zeros, ones, or other values (as above)\n",
    " + Creating a diagonal matrix\n",
    " + Reshaping a 1-D array\n",
    " + Making a meshgrid (useful for plotting; see next unit)\n",
    " \n",
    "Note: It is no longer recommended to use np.matrix, even for linear algebra. Instead use regular arrays. The class may be removed in the future."
   ]
  },
  {
   "cell_type": "code",
   "execution_count": null,
   "metadata": {},
   "outputs": [],
   "source": [
    "A = np.array([[1,2,3], [4,5,6]]) \n",
    "A"
   ]
  },
  {
   "cell_type": "code",
   "execution_count": null,
   "metadata": {},
   "outputs": [],
   "source": [
    "B = np.zeros((5,4)) \n",
    "print(B)\n",
    "print(np.shape(B))"
   ]
  },
  {
   "cell_type": "code",
   "execution_count": null,
   "metadata": {},
   "outputs": [],
   "source": [
    "C = np.diag(np.array([1, 2, 3, 4]))\n",
    "C"
   ]
  },
  {
   "cell_type": "code",
   "execution_count": null,
   "metadata": {},
   "outputs": [],
   "source": [
    "D = np.arange(12).reshape(2, 6)\n",
    "D"
   ]
  },
  {
   "cell_type": "markdown",
   "metadata": {},
   "source": [
    "To turn a matrix back to a vector:"
   ]
  },
  {
   "cell_type": "code",
   "execution_count": null,
   "metadata": {},
   "outputs": [],
   "source": [
    "D.flatten()"
   ]
  },
  {
   "cell_type": "markdown",
   "metadata": {},
   "source": [
    "Meshgrid forms 2 matrices, as illustrated below. Essentially, if you were to make a 3-D plot, you require a grid of points on the XY-plane. The xx matrix therefore represents the x-coordinates over that grid. \n",
    "\n",
    "<img src=\"Meshgrid.png\">\n",
    "\n",
    "(Answer on https://stackoverflow.com/questions/36013063/what-is-the-purpose-of-meshgrid-in-python-numpy)"
   ]
  },
  {
   "cell_type": "code",
   "execution_count": null,
   "metadata": {},
   "outputs": [],
   "source": [
    "x = [1, 2, 3, 4]\n",
    "y = [5, 6, 7]\n",
    "xx, yy = np.meshgrid(x, y)\n",
    "print(xx)\n",
    "print(yy)"
   ]
  },
  {
   "cell_type": "markdown",
   "metadata": {},
   "source": [
    "### Indexing matrices\n",
    "\n",
    "Remember how we indexed nested lists in Unit 1? The same principle applies here"
   ]
  },
  {
   "cell_type": "code",
   "execution_count": null,
   "metadata": {},
   "outputs": [],
   "source": [
    "A = np.array([[7, 4, 5, 12],\n",
    "                [-5, 8, 9, 0],\n",
    "                [-6, 3, 11, 19]])\n",
    "\n",
    "print(A[0]) # 1st row\n",
    "print(A[0][0]) # 1st row, 1st column\n",
    "print(A[0, 0]) # also acceptable\n",
    "print(A[-1][1:3]) # last row, slice from 1st to 3rd comma"
   ]
  },
  {
   "cell_type": "markdown",
   "metadata": {},
   "source": [
    "To access columns, use this notation:"
   ]
  },
  {
   "cell_type": "code",
   "execution_count": null,
   "metadata": {},
   "outputs": [],
   "source": [
    "print(A[:,0]) # 1st column\n",
    "print(A[::,0]) # also acceptable\n",
    "print('----')\n",
    "print(A[0:4, 0:4]) # entire matrix\n",
    "print(A[:2, :3]) # first 3 columns from first 2 rows"
   ]
  },
  {
   "cell_type": "markdown",
   "metadata": {},
   "source": [
    "### Basic matrix operations\n",
    "\n",
    "Let's consider the addition, multiplication and transposition of matrices.\n",
    "\n",
    "Remember multiplication is only possible if the columns of the first matrix equals the rows of the second matrix. "
   ]
  },
  {
   "cell_type": "code",
   "execution_count": null,
   "metadata": {},
   "outputs": [],
   "source": [
    "A = np.array([[2, 4], [1, -3]])\n",
    "B = np.array([[0, -1], [2, 1]])\n",
    "print(A)\n",
    "print('')\n",
    "print(B)"
   ]
  },
  {
   "cell_type": "code",
   "execution_count": null,
   "metadata": {},
   "outputs": [],
   "source": [
    "print(A + B) # element-wise addition"
   ]
  },
  {
   "cell_type": "code",
   "execution_count": null,
   "metadata": {},
   "outputs": [],
   "source": [
    "print(A @ B) # preferred\n",
    "\n",
    "print(A.dot(B)) # Note that this notation is preferred for the dot product of arrays"
   ]
  },
  {
   "cell_type": "code",
   "execution_count": null,
   "metadata": {},
   "outputs": [],
   "source": [
    "print(A.transpose())\n",
    "print(A.T)"
   ]
  },
  {
   "cell_type": "markdown",
   "metadata": {},
   "source": [
    "The identity matrix, $I$, had to be named as a pun to prevent confusion 😜"
   ]
  },
  {
   "cell_type": "code",
   "execution_count": null,
   "metadata": {},
   "outputs": [],
   "source": [
    "np.eye(5)"
   ]
  },
  {
   "cell_type": "markdown",
   "metadata": {},
   "source": [
    "## Linear algebra <a name=\"linalg\"></a> \n",
    "\n",
    "Lastly let's illustrate the computational capabilities of the `linalg` submodule. Consider the system of linear equations given by \n",
    "\n",
    "$ Ax = b $\n",
    "\n",
    "If the system is well-determined, use `LA.solve()` to solve it. If the system is under-, over-determined use the `LA.lstsq()` function to return the least-squares solution to a linear matrix equation. We will also calculate the determinant, inverse, eigenvalue, eigenvector and 1st order norm of the matrix A.\n",
    "\n",
    "Try changing just 1 element in the system and see how it affects the results!"
   ]
  },
  {
   "cell_type": "code",
   "execution_count": null,
   "metadata": {},
   "outputs": [],
   "source": [
    "import numpy.linalg as LA"
   ]
  },
  {
   "cell_type": "code",
   "execution_count": null,
   "metadata": {},
   "outputs": [],
   "source": [
    "A = np.array([[2, 3, 4, 1], \n",
    "              [1, 1, 2, 1], \n",
    "              [2, 4, 5, 2], \n",
    "              [1, 2, 3, 4]])\n",
    "b = np.array([[10], [5], [13], [10]])"
   ]
  },
  {
   "cell_type": "code",
   "execution_count": null,
   "metadata": {},
   "outputs": [],
   "source": [
    "LA.solve(A, b)"
   ]
  },
  {
   "cell_type": "code",
   "execution_count": null,
   "metadata": {},
   "outputs": [],
   "source": [
    "LA.det(A)"
   ]
  },
  {
   "cell_type": "code",
   "execution_count": null,
   "metadata": {},
   "outputs": [],
   "source": [
    "LA.inv(A)"
   ]
  },
  {
   "cell_type": "code",
   "execution_count": null,
   "metadata": {},
   "outputs": [],
   "source": [
    "evalues, evectors = LA.eig(A) \n",
    "print(evalues)\n",
    "print(evectors)"
   ]
  },
  {
   "cell_type": "code",
   "execution_count": null,
   "metadata": {},
   "outputs": [],
   "source": [
    "LA.norm(A, ord=1)"
   ]
  },
  {
   "cell_type": "markdown",
   "metadata": {},
   "source": [
    "## Polynomials <a name=\"poly\"></a> \n",
    "\n",
    "For numerical evaluations of polynomials, NumPy provides \"convenience classes\" for quick calculations, including root-finding and curve-fitting: https://docs.scipy.org/doc/numpy/reference/routines.polynomials.classes.html\n",
    "\n",
    "For information on *plotting, symbolic calculations and nonlinear curve-fitting* see the following units.\n",
    "\n",
    "First, let's define $ p(x) = 1 + 2x + 4x^3 $"
   ]
  },
  {
   "cell_type": "code",
   "execution_count": null,
   "metadata": {},
   "outputs": [],
   "source": [
    "from numpy.polynomial import Polynomial as P"
   ]
  },
  {
   "cell_type": "code",
   "execution_count": null,
   "metadata": {},
   "outputs": [],
   "source": [
    "p = P([1,2,0,4])\n",
    "p"
   ]
  },
  {
   "cell_type": "code",
   "execution_count": null,
   "metadata": {},
   "outputs": [],
   "source": [
    "p.roots()"
   ]
  },
  {
   "cell_type": "markdown",
   "metadata": {},
   "source": [
    "To fit a polynomial to data with `np.ployfit`, specify the x and y data, as well as the order of the polynomial. The output will be the coefficients with the highest power first."
   ]
  },
  {
   "cell_type": "code",
   "execution_count": null,
   "metadata": {},
   "outputs": [],
   "source": [
    "xdata = np.array([0.0, 1.0, 2.0, 3.0, 4.0, 5.0]) \n",
    "ydata = np.array([0.0, 0.8, 0.9, 0.1, -0.8, -1.0])\n",
    "z = np.polyfit(xdata , ydata , 3)\n",
    "z"
   ]
  },
  {
   "cell_type": "markdown",
   "metadata": {},
   "source": [
    "### <span style=\"color:blue\"> Exercise 3.2 </span> "
   ]
  },
  {
   "cell_type": "markdown",
   "metadata": {},
   "source": [
    "To see other subpackages in NumPy like `random`, `fft` and `polynomial`, use help."
   ]
  },
  {
   "cell_type": "code",
   "execution_count": null,
   "metadata": {},
   "outputs": [],
   "source": [
    "np?"
   ]
  },
  {
   "cell_type": "markdown",
   "metadata": {},
   "source": [
    "## Other abilities\n",
    "\n",
    "There are many more functions in the `numpy` library that can't be discussed here. Although Python is currently at version 3.7, the modules have their own version numbers:\n",
    "\n",
    " + Mathematical (\"universal\") functions like arcsin: https://docs.scipy.org/doc/numpy/reference/routines.math.html\n",
    " + Financial functions like NPV: https://docs.scipy.org/doc/numpy/reference/routines.financial.html\n",
    " + More statistics: https://docs.scipy.org/doc/numpy/reference/routines.statistics.html\n",
    " + More linear algebra: https://docs.scipy.org/doc/numpy/reference/routines.linalg.html\n",
    " + More polynomials: https://docs.scipy.org/doc/numpy/reference/routines.polynomials.html\n",
    " + Dates and time: https://docs.scipy.org/doc/numpy/reference/arrays.datetime.html\n",
    " + Discrete (fast) Fourier transform: https://docs.scipy.org/doc/numpy/reference/routines.fft.html\n",
    " + Sorting, searching, and counting in arrays: https://docs.scipy.org/doc/numpy/reference/routines.sort.html"
   ]
  },
  {
   "cell_type": "code",
   "execution_count": null,
   "metadata": {},
   "outputs": [],
   "source": []
  }
 ],
 "metadata": {
  "kernelspec": {
   "display_name": "Python 3",
   "language": "python",
   "name": "python3"
  },
  "language_info": {
   "codemirror_mode": {
    "name": "ipython",
    "version": 3
   },
   "file_extension": ".py",
   "mimetype": "text/x-python",
   "name": "python",
   "nbconvert_exporter": "python",
   "pygments_lexer": "ipython3",
   "version": "3.7.1"
  }
 },
 "nbformat": 4,
 "nbformat_minor": 2
}
