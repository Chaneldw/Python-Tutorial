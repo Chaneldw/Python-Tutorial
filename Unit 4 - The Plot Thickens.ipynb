{
 "cells": [
  {
   "cell_type": "markdown",
   "metadata": {},
   "source": [
    "# Plotting\n",
    "\n",
    "The best way to inspect your calculations and draw conclusions from your data is by visualising it. So let's have a look! Note, the more advanced plot customisation techniques will be discussed in a later notebook. \n",
    "Examples and help are available here: \n",
    "\n",
    "- https://matplotlib.org/tutorials/index.html\n",
    "- https://www.scipy-lectures.org/intro/matplotlib/index.html\n",
    "\n",
    "#### Contents:\n",
    "1. Basic plots\n",
    "2. Other 2D plots\n",
    "    * Categorical variables\n",
    "    * Logarithmic axes\n",
    "    * Statistics\n",
    "    * Interactive plots\n",
    "    * Quiver plots\n",
    "3. 3D plots\n",
    "    * Flat contour plots\n",
    "    * Line and scatter plots\n",
    "    * Surface plots"
   ]
  },
  {
   "cell_type": "code",
   "execution_count": null,
   "metadata": {},
   "outputs": [],
   "source": [
    "import numpy as np\n",
    "import matplotlib.pyplot as plt"
   ]
  },
  {
   "cell_type": "markdown",
   "metadata": {},
   "source": [
    "The following command affects the whole notebook. Use `%matplotlib inline` to keep graphs tiny and out of the way. Using `%matplotlib notebook` creates interactive plots, but then you must remember to include `plt.figure()` before every plotting statement. If you forget this, the graph will jump to a previous figure in the notebook!"
   ]
  },
  {
   "cell_type": "code",
   "execution_count": null,
   "metadata": {},
   "outputs": [],
   "source": [
    "%matplotlib notebook"
   ]
  },
  {
   "cell_type": "markdown",
   "metadata": {},
   "source": [
    "## Basic plots\n",
    "\n"
   ]
  },
  {
   "cell_type": "code",
   "execution_count": null,
   "metadata": {},
   "outputs": [],
   "source": [
    "plt.figure()\n",
    "plt.plot([0, 1, 2, 3], [2, 3, 2.5, 4]) # x-data then y-data "
   ]
  },
  {
   "cell_type": "markdown",
   "metadata": {},
   "source": [
    "In interactive mode, you can stretch the plot with the grey triangle at the bottom right, pan the graph along the axes, and zoom in. \n",
    "\n",
    "Use the `plt.show()` statement after plotting to remove the <matplotlib.lines....> output. \n",
    "\n",
    "All indexable objects are supported: lists, arrays, tuples and dictionaries. Furthermore, let's make the graph a bit more complete. We can set the location of the legend to a specific location string/code like 'best' (0), or 'upper right' (1) and annotate it."
   ]
  },
  {
   "cell_type": "code",
   "execution_count": null,
   "metadata": {},
   "outputs": [],
   "source": [
    "# plt.legend?\n",
    "# plt.text?"
   ]
  },
  {
   "cell_type": "code",
   "execution_count": null,
   "metadata": {},
   "outputs": [],
   "source": [
    "plt.figure()\n",
    "plt.plot(np.array([0, 1, 2, 3]), (2, 3, 2.5, 4), label='Run 1')\n",
    "plt.plot([0, 1, 2, 3], [3.5, 3.5, 3, 3.75], label='Run 2')\n",
    "plt.title('Volume experiment')\n",
    "plt.xlabel('t (min)')\n",
    "plt.ylabel('V$_i$ (m$^3$)')\n",
    "plt.legend(loc='upper center')\n",
    "plt.text(1.75, 2.25, 'Both dip here') # Specifies annotation location & text\n",
    "# plt.text(0.1, 3.6, '$\\frac{dV}{dt} = 0$')\n",
    "plt.show()"
   ]
  },
  {
   "cell_type": "markdown",
   "metadata": {},
   "source": [
    "We can also use functions within the plotting commands, force specific axis lengths and add a grid. If you want the graphs to be less 'sharp', use more x-values."
   ]
  },
  {
   "cell_type": "code",
   "execution_count": null,
   "metadata": {},
   "outputs": [],
   "source": [
    "# plt.figure?"
   ]
  },
  {
   "cell_type": "code",
   "execution_count": null,
   "metadata": {},
   "outputs": [],
   "source": [
    "t = np.arange(0, 6, 0.2)\n",
    "\n",
    "plt.figure()\n",
    "plt.grid()\n",
    "plt.xlabel('t (rad)')\n",
    "plt.axis([0, t[-1], -2.5, 2.5]) # [xmin, xmax, ymin, ymax], can also set other axis properties\n",
    "plt.plot(t, np.sin(t), label='Sin(t)')\n",
    "plt.plot(t, np.cos(t), label='Cos(t)')\n",
    "plt.plot(t, 2*np.sin(t), label='2Sin(t)') \n",
    "plt.plot(t, np.cos(2*t), label='Cos(2t)')\n",
    "plt.plot([t[0], t[-1]], [0, 0], 'k') # x-axis in black (k)\n",
    "plt.legend(loc='best')\n",
    "plt.show()"
   ]
  },
  {
   "cell_type": "markdown",
   "metadata": {},
   "source": [
    "Consulting the help for `plt.plot()` below, note that an arbitrary number of positional and keyword arguments are allowed. The optional parameter \\*fmt\\* is a convenient way for defining basic formatting like colour, marker and linestyle (useful for monochrome documents). Have a look at the tables listed at the end of the help for these formatting shortcuts. E.g. the following two calls yield identical results:\n",
    " + plot(x, y, 'go--')\n",
    " + plot(x, y, color='green', marker='o', linestyle='dashed')\n",
    " \n",
    "Furthermore, we can change the figure size from the default value of 6.4 x 4.8 inch$^2$.\n",
    "\n",
    "Lastly, you can save figures in a specific format like .png, .jpg, .pdf or .svg (scalable vector graphics will never lose resolution, no matter how large you make them). Optional arguments for `.savefig()` include:\n",
    "+ `dpi`: set the resolution of the file to a numeric value.\n",
    "+ `transparent`: can be set to True, which causes the background of the chart to be transparent.\n",
    "+ `bbox_inches`: can be set to alter the size of the bounding box (whitespace) around the output image. In most cases, if no bounding box is desired, using `bbox_inches='tight'` is ideal (in that case use `pad_inches` option to specify the amount of padding around the image)."
   ]
  },
  {
   "cell_type": "code",
   "execution_count": null,
   "metadata": {},
   "outputs": [],
   "source": [
    "# plt.plot?\n",
    "# plt.figure?\n",
    "# plt.savefig?"
   ]
  },
  {
   "cell_type": "code",
   "execution_count": null,
   "metadata": {},
   "outputs": [],
   "source": [
    "plt.figure(figsize=(5.3, 4))  \n",
    "plt.xlabel('t (rad)')\n",
    "plt.plot(t,   np.sin(t), 'go--', label='Sin(t)') # green dots with a dashed line\n",
    "plt.plot(t,   np.cos(t), 'r--' , label='Cos(t)') # red dashed line\n",
    "plt.plot(t, 2*np.sin(t), 'bs-.', label='2Sin(t)') # blue squares with dash-dot line\n",
    "plt.plot(t, np.cos(2*t), 'm^:' , label='Cos(2t)') # magenta triangles with dotted line\n",
    "plt.legend(loc='best')\n",
    "plt.show()\n",
    "# plt.savefig('Sinusoids.png', transparent=True)"
   ]
  },
  {
   "cell_type": "markdown",
   "metadata": {},
   "source": [
    "Let's visualise that polynomial fit from Unit 3."
   ]
  },
  {
   "cell_type": "code",
   "execution_count": null,
   "metadata": {},
   "outputs": [],
   "source": [
    "xdata = np.array([0.0, 1.0, 2.0, 3.0, 4.0, 5.0]) \n",
    "ydata = np.array([0.0, 0.8, 0.9, 0.1, -0.8, -1.0])\n",
    "z = np.polyfit(xdata , ydata , 3)\n",
    "p = np.poly1d(z) # creates a polynomial object from the fitted coefficients\n",
    "p"
   ]
  },
  {
   "cell_type": "code",
   "execution_count": null,
   "metadata": {},
   "outputs": [],
   "source": [
    "xfit = np.linspace(xdata[0], xdata[-1])\n",
    "yfit = p(xfit)\n",
    "\n",
    "plt.figure(figsize=(4.5, 4))  \n",
    "plt.plot(xdata, ydata, 'o', label='Data')\n",
    "plt.plot(xfit, yfit, label='Polynomial')\n",
    "plt.legend(loc='best')\n",
    "plt.show()"
   ]
  },
  {
   "cell_type": "markdown",
   "metadata": {},
   "source": [
    "## Other 2D plots\n",
    "\n",
    "### Categorical variables\n",
    "\n",
    "If we want to compare many different plots next to each other, we can make subplots. They allow a rectangular grid of same-size figures to be displayed together. Note that `plt.subplots()` is preferred over `plt.subplot()` due to easier formatting and customisation.\n",
    "\n",
    "Let's use them to see how to plot categorical variables. "
   ]
  },
  {
   "cell_type": "code",
   "execution_count": null,
   "metadata": {},
   "outputs": [],
   "source": [
    "names = ['A', 'B', 'C']\n",
    "val = [1, 10, 5]\n",
    "\n",
    "fig, axes = plt.subplots(1, 3, figsize=(8, 2.5))\n",
    "axes[0].scatter(names, val)\n",
    "axes[1].bar(names, val)\n",
    "axes[2].barh(names, val) \n",
    "axes[2].invert_yaxis() # labels from top to bottom\n",
    "\n",
    "plt.suptitle('Categorical Plotting')\n",
    "plt.show()"
   ]
  },
  {
   "cell_type": "code",
   "execution_count": null,
   "metadata": {},
   "outputs": [],
   "source": [
    "# plt.subplots?"
   ]
  },
  {
   "cell_type": "markdown",
   "metadata": {},
   "source": [
    "### Logarithmic axes\n",
    "\n",
    "Again subplots will be used, but to save on typing, let's use a for loop for the first 4 subplots (those with less than 5 commands). To produce a graph with a logarithmic y-axis, both of these commands will work:\n",
    "+ `plt.semilogy(x, y)` \n",
    "+ `plt.plot(x, y)` with `plt.yscale('log')`\n",
    "\n",
    "Note that the symmetrical logarithmic scale is logarithmic in both the positive and negative directions from the origin. To prevent its x-axis from squashing together, the plot was enlarged, and the grid spacing adjusted."
   ]
  },
  {
   "cell_type": "code",
   "execution_count": null,
   "metadata": {},
   "outputs": [],
   "source": [
    "x = np.arange(-50.0, 50.0, 0.1)\n",
    "y = np.arange(0, 100.0, 0.1)\n",
    "\n",
    "plot_list = [plt.plot,\n",
    "            plt.semilogy,\n",
    "            plt.semilogx,\n",
    "            plt.loglog]\n",
    "\n",
    "plt.figure(figsize=(9.5, 5)) \n",
    "\n",
    "for i, func in enumerate(plot_list, start=1):\n",
    "    plt.subplot(2, 3, i)\n",
    "    func(x, y)\n",
    "    plt.title(func.__name__)\n",
    "    plt.grid()\n",
    "\n",
    "plt.subplot(235)\n",
    "plt.plot(x, y)\n",
    "plt.yscale('symlog')\n",
    "plt.title('symlog (y)')\n",
    "plt.grid()\n",
    "\n",
    "plt.subplot(236)\n",
    "plt.plot(x, y)\n",
    "plt.xscale('symlog')\n",
    "plt.title('symlog (x)')\n",
    "plt.grid()\n",
    "\n",
    "plt.subplots_adjust(top=0.92, bottom=0.08, left=0.10, right=0.95, hspace=0.3, wspace=0.3)\n",
    "plt.show()"
   ]
  },
  {
   "cell_type": "markdown",
   "metadata": {},
   "source": [
    "### Statistics\n",
    "\n",
    "For statistical analysis we can draw histograms, boxplots and bar plots with subcategories. Let's generate some random data using `numpy.random`. There are 2 ways to do this. For the different datasets, let's make the standard deviation 15 and 5 respectively. "
   ]
  },
  {
   "cell_type": "code",
   "execution_count": null,
   "metadata": {},
   "outputs": [],
   "source": [
    "mu = 50\n",
    "sigma = 15\n",
    "n = 1500\n",
    "\n",
    "run1 = mu + sigma * np.random.randn(n)\n",
    "run2 = np.random.normal(loc=mu, scale=5, size=n)\n",
    "\n",
    "print(run1, run1.mean(), run1.std())\n",
    "print(run2, run2.mean(), run2.std())"
   ]
  },
  {
   "cell_type": "markdown",
   "metadata": {},
   "source": [
    "For the first histogram, let's use intervals of 10 as the bin borders. For the second one, let's use 40 bins, make it 30 % transparent, and normalise the data to form a probability density. Note `alpha` is a kwarg that can change colours from opaque (1) to transparent (0) and can be used on any plot."
   ]
  },
  {
   "cell_type": "code",
   "execution_count": null,
   "metadata": {},
   "outputs": [],
   "source": [
    "# plt.hist?"
   ]
  },
  {
   "cell_type": "code",
   "execution_count": null,
   "metadata": {
    "scrolled": false
   },
   "outputs": [],
   "source": [
    "plt.figure(figsize=(9, 4))\n",
    "\n",
    "plt.subplot(121)\n",
    "bins1 = np.arange(0, 101, 10)\n",
    "n, bins, patches = plt.hist(run1, bins1)\n",
    "plt.xlabel('Data')\n",
    "plt.ylabel('Frequency')\n",
    "plt.title('Histogram of Run 1')\n",
    "plt.text(60, 350, '$\\mu=50,\\ \\sigma=15$')\n",
    "plt.grid()\n",
    "\n",
    "plt.subplot(122)\n",
    "n, bins, patches = plt.hist(run2, 40, density=True, facecolor='g', alpha=0.7)\n",
    "plt.xlabel('Data')\n",
    "plt.ylabel('Probability')\n",
    "plt.title('Histogram of Run 2')\n",
    "plt.text(55, 0.07, '$\\mu=50,\\ \\sigma=5$')\n",
    "plt.grid()\n",
    "\n",
    "plt.subplots_adjust(wspace=0.25)\n",
    "plt.show()"
   ]
  },
  {
   "cell_type": "markdown",
   "metadata": {},
   "source": [
    "Box and whisker plots illustrate the variance of data. The box extends from the lower to upper quartile values of the data, with a line at the median. The whiskers extend from the box to show the range of the data. In other words, where IQR is the interquartile range (`Q3-Q1`), the upper whisker will extend to the last datum less than `Q3 + 1.5*IQR`). The value of 1.5 can be changed and passed as the keyword `whis`. Beyond the whiskers, data are considered outliers/fliers and are plotted as individual points. "
   ]
  },
  {
   "cell_type": "code",
   "execution_count": null,
   "metadata": {},
   "outputs": [],
   "source": [
    "# plt.boxplot?"
   ]
  },
  {
   "cell_type": "code",
   "execution_count": null,
   "metadata": {
    "scrolled": false
   },
   "outputs": [],
   "source": [
    "plt.figure(figsize=(5,4))\n",
    "plt.boxplot([run1, run2], labels=['Run 1', 'Run 2'])\n",
    "plt.xlabel('Experiment')\n",
    "plt.ylabel('Frequency')\n",
    "plt.show()"
   ]
  },
  {
   "cell_type": "markdown",
   "metadata": {},
   "source": [
    "### Interactive plots\n",
    "\n",
    "We can also use a slider widget on our plots. "
   ]
  },
  {
   "cell_type": "code",
   "execution_count": null,
   "metadata": {},
   "outputs": [],
   "source": [
    "from ipywidgets import interact"
   ]
  },
  {
   "cell_type": "code",
   "execution_count": null,
   "metadata": {},
   "outputs": [],
   "source": [
    "def f(t, A, B):\n",
    "    return np.exp(-t) * np.cos(A*np.pi*t + B)\n",
    "\n",
    "t1 = np.arange(0.0, 5.0, 0.05)\n",
    "\n",
    "def decaying_sinusoid(A, B):\n",
    "    plt.figure(figsize=(5,4))\n",
    "    plt.subplot(211)\n",
    "    plt.plot(t1, f(t1, A, B))\n",
    "\n",
    "    plt.subplot(212)\n",
    "    y2 = np.cos(-A*np.pi*t1 + B)\n",
    "    plt.plot(t1, y2)\n",
    "\n",
    "    plt.show()"
   ]
  },
  {
   "cell_type": "code",
   "execution_count": null,
   "metadata": {},
   "outputs": [],
   "source": [
    "interact(decaying_sinusoid, A=-2, B=(-3, 3, 0.5), continuous_update=False)"
   ]
  },
  {
   "cell_type": "markdown",
   "metadata": {},
   "source": [
    "https://ipywidgets.readthedocs.io/en/stable/examples/Using%20Interact.html"
   ]
  },
  {
   "cell_type": "code",
   "execution_count": null,
   "metadata": {},
   "outputs": [],
   "source": [
    "# interact?"
   ]
  },
  {
   "cell_type": "markdown",
   "metadata": {},
   "source": [
    "(Finish/Move) I will take this oppurtunity to introduce a bit of new syntax as well (calling the subplot by the axis object it creates allows you to change more formatting properties). This is used here to make the subplots share the same x-axis, and to shade the area under the second plot."
   ]
  },
  {
   "cell_type": "code",
   "execution_count": null,
   "metadata": {},
   "outputs": [],
   "source": [
    "#     ax1.get_shared_x_axes().join(ax1, ax2)\n",
    "#     ax1.set_xticklabels([])\n",
    "#     ax2.fill_between(t2, 0, y2, alpha=0.7)"
   ]
  },
  {
   "cell_type": "markdown",
   "metadata": {},
   "source": [
    "### Quiver plots \n",
    "\n",
    "Vector fields can also be plotted. For the input `quiver(X, Y, U, V, C, **kw)`:\n",
    "+ X & Y: x & y coordinates of the arrow locations\n",
    "+ U & V: x & y components of the vectors\n",
    "+ C: array representing arrow colours\n",
    "\n",
    "Let's plot the vector field:\n",
    "\n",
    "$$ \\textbf{F}(x, y) = -y \\, \\textbf{i} + x \\, \\textbf{j} $$\n",
    "\n",
    "$$ \\Rightarrow \\textbf{F}(0, 1) = \\textbf{j} = \\langle 0, 1 \\rangle $$\n",
    "\n",
    "Other example: http://www.scipy-lectures.org/intro/matplotlib/auto_examples/plot_quiver_ex.html"
   ]
  },
  {
   "cell_type": "code",
   "execution_count": null,
   "metadata": {},
   "outputs": [],
   "source": [
    "# plt.quiver?"
   ]
  },
  {
   "cell_type": "code",
   "execution_count": null,
   "metadata": {},
   "outputs": [],
   "source": [
    "x = np.linspace(-6, 6, 13)\n",
    "y = np.linspace(0, 8, 9)\n",
    "X, Y = np.meshgrid(x, y)\n",
    "\n",
    "plt.figure(figsize=(5,4))\n",
    "plt.scatter(X, Y)"
   ]
  },
  {
   "cell_type": "code",
   "execution_count": null,
   "metadata": {},
   "outputs": [],
   "source": [
    "U = -Y\n",
    "V = X\n",
    "C = np.linspace(-6, 6, 13) # matches X \n",
    "\n",
    "plt.figure()\n",
    "plt.quiver(X, Y, U, V, C, alpha=1) # arrow face color\n",
    "plt.quiver(X, Y, U, V, edgecolor='k', facecolor='None', linewidth=.5) # arrow borders\n",
    "plt.show()"
   ]
  },
  {
   "cell_type": "markdown",
   "metadata": {},
   "source": [
    "## 3D plots\n",
    "\n",
    "There are many ways to represent 3D plots. Nowadays one can even type it into Google and see a graph. To see the different types of plots we can make, let's choose a function and make some data:"
   ]
  },
  {
   "cell_type": "code",
   "execution_count": null,
   "metadata": {},
   "outputs": [],
   "source": [
    "def f(x, y):\n",
    "    return np.sin(np.sqrt(x ** 2 + y ** 2))\n",
    "\n",
    "x = np.linspace(0, 5, 50)\n",
    "y = np.linspace(0, 5, 40)\n",
    "\n",
    "\n",
    "X, Y = np.meshgrid(x, y)\n",
    "print(X)\n",
    "Z = f(X, Y)"
   ]
  },
  {
   "cell_type": "markdown",
   "metadata": {},
   "source": [
    "### Flat contour plots\n",
    "\n",
    "The `contour()` function takes three arguments: a grid of x values, a grid of y values, and a grid of z values (thus we use `meshgrid()`). \n",
    "\n",
    "Example from: https://jakevdp.github.io/PythonDataScienceHandbook/04.04-density-and-contour-plots.html"
   ]
  },
  {
   "cell_type": "code",
   "execution_count": null,
   "metadata": {},
   "outputs": [],
   "source": [
    "# plt.contour?"
   ]
  },
  {
   "cell_type": "code",
   "execution_count": null,
   "metadata": {},
   "outputs": [],
   "source": [
    "plt.figure()\n",
    "plt.contour(X, Y, Z, colors='black')\n",
    "plt.show()"
   ]
  },
  {
   "cell_type": "markdown",
   "metadata": {},
   "source": [
    "Notice that by default when a single color is used, negative values are represented by dashed lines, and positive values by solid lines. Alternatively, the lines can be color-coded by specifying a colourmap with the `cmap` argument (see Unit 7). Here, we'll also specify that we want more lines to be drawn — 20 equally spaced intervals within the data range:"
   ]
  },
  {
   "cell_type": "code",
   "execution_count": null,
   "metadata": {
    "scrolled": false
   },
   "outputs": [],
   "source": [
    "plt.figure()\n",
    "plt.contour(X, Y, Z, 20, cmap='plasma')\n",
    "plt.colorbar()"
   ]
  },
  {
   "cell_type": "markdown",
   "metadata": {},
   "source": [
    "Filled contour maps may be easier to understand."
   ]
  },
  {
   "cell_type": "code",
   "execution_count": null,
   "metadata": {},
   "outputs": [],
   "source": [
    "plt.figure()\n",
    "plt.contourf(X, Y, Z, 20, cmap='plasma')\n",
    "plt.colorbar()\n",
    "plt.show()"
   ]
  },
  {
   "cell_type": "markdown",
   "metadata": {},
   "source": [
    "To make the colour steps seem more continuous, (instead of using more steps which is computationally intensive) we can use `imshow()` to render it as an image. Furthermore we can overlay it with some contour labels."
   ]
  },
  {
   "cell_type": "code",
   "execution_count": null,
   "metadata": {},
   "outputs": [],
   "source": [
    "plt.figure()\n",
    "plt.imshow(Z, extent=[0, 5, 0, 5], origin='lower', cmap='plasma')\n",
    "plt.colorbar()\n",
    "\n",
    "contours = plt.contour(X, Y, Z, levels=4, colors='black')\n",
    "plt.clabel(contours, inline=True, fontsize=8)\n",
    "plt.show()"
   ]
  },
  {
   "cell_type": "markdown",
   "metadata": {},
   "source": [
    "Countour plots can also be used to draw implicit functions like circles."
   ]
  },
  {
   "cell_type": "code",
   "execution_count": null,
   "metadata": {},
   "outputs": [],
   "source": [
    "delta = 0.025\n",
    "x1, y1 = np.meshgrid(np.arange(-6, 6, delta), np.arange(-6, 6, delta))\n",
    "plt.figure(figsize=(5,5))\n",
    "cs = plt.contour(x1, y1, x1**2+y1**2-9, levels=[0, 10, 20])\n",
    "plt.clabel(cs, inline=1, fontsize=12)\n",
    "plt.show()"
   ]
  },
  {
   "cell_type": "markdown",
   "metadata": {},
   "source": [
    "### Line and scatter plots\n",
    "\n",
    "Firstly let's see how to create 3D axes, then how to draw a parametric line and random datapoints. For these points, note that the colormap is mapped to the z-data (to illustrate the direction of change).\n",
    "\n",
    "Example from: https://jakevdp.github.io/PythonDataScienceHandbook/04.12-three-dimensional-plotting.html\n",
    "\n",
    "Help on mplot3d: https://matplotlib.org/tutorials/toolkits/mplot3d.html#toolkit-mplot3d-tutorial"
   ]
  },
  {
   "cell_type": "code",
   "execution_count": null,
   "metadata": {},
   "outputs": [],
   "source": [
    "from mpl_toolkits import mplot3d"
   ]
  },
  {
   "cell_type": "code",
   "execution_count": null,
   "metadata": {},
   "outputs": [],
   "source": [
    "fig = plt.figure()\n",
    "ax = plt.axes(projection='3d')"
   ]
  },
  {
   "cell_type": "code",
   "execution_count": null,
   "metadata": {},
   "outputs": [],
   "source": [
    "fig = plt.figure()\n",
    "ax = plt.axes(projection='3d')\n",
    "# ax.scatter3D?\n",
    "\n",
    "# Data for a three-dimensional line\n",
    "zline = np.linspace(0, 15, 1000)\n",
    "xline = np.sin(zline)\n",
    "yline = np.cos(zline)\n",
    "ax.plot3D(xline, yline, zline, 'gray')\n",
    "\n",
    "# Data for three-dimensional scattered points\n",
    "zdata = 15 * np.random.random(100)\n",
    "xdata = np.sin(zdata) + 0.1 * np.random.randn(100)\n",
    "ydata = np.cos(zdata) + 0.1 * np.random.randn(100)\n",
    "ax.scatter3D(xdata, ydata, zdata, c=zdata, cmap='viridis')\n",
    "plt.show()"
   ]
  },
  {
   "cell_type": "markdown",
   "metadata": {},
   "source": [
    "### Surface plots\n",
    "\n",
    "We can draw contour plots, wireframe plots and surface plots too."
   ]
  },
  {
   "cell_type": "code",
   "execution_count": null,
   "metadata": {},
   "outputs": [],
   "source": [
    "fig = plt.figure()\n",
    "ax = plt.axes(projection='3d')\n",
    "ax.contour3D(X, Y, Z, 50, cmap='plasma')\n",
    "ax.set_xlabel('x')\n",
    "ax.set_ylabel('y')\n",
    "ax.set_zlabel('z')\n",
    "plt.show()"
   ]
  },
  {
   "cell_type": "code",
   "execution_count": null,
   "metadata": {},
   "outputs": [],
   "source": [
    "fig = plt.figure()\n",
    "ax = plt.axes(projection='3d')\n",
    "# ax.plot_wireframe?\n",
    "ax.plot_wireframe(X, Y, Z, color='black')\n",
    "ax.set_title('Wireframe')\n",
    "plt.show()"
   ]
  },
  {
   "cell_type": "code",
   "execution_count": null,
   "metadata": {},
   "outputs": [],
   "source": [
    "fig = plt.figure()\n",
    "ax = plt.axes(projection='3d')\n",
    "ax.plot_surface(X, Y, Z, rstride=1, cstride=1, cmap='plasma', edgecolor='none')\n",
    "# ax.plot_surface?\n",
    "# Lower rstride => better resolution\n",
    "ax.set_title('Surface')\n",
    "plt.show()"
   ]
  },
  {
   "cell_type": "code",
   "execution_count": null,
   "metadata": {},
   "outputs": [],
   "source": []
  }
 ],
 "metadata": {
  "kernelspec": {
   "display_name": "Python 3",
   "language": "python",
   "name": "python3"
  },
  "language_info": {
   "codemirror_mode": {
    "name": "ipython",
    "version": 3
   },
   "file_extension": ".py",
   "mimetype": "text/x-python",
   "name": "python",
   "nbconvert_exporter": "python",
   "pygments_lexer": "ipython3",
   "version": "3.7.1"
  }
 },
 "nbformat": 4,
 "nbformat_minor": 2
}
