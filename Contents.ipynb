{
 "cells": [
  {
   "cell_type": "markdown",
   "metadata": {},
   "source": [
    "# Contents\n",
    "\n",
    "[Unit 1 - First Steps on Jupyter](Unit%201%20-%20First%20Steps%20on%20Jupyter.ipynb)\n",
    "\n",
    "[Unit 2 - Stepping up](Unit%202%20-%20Stepping%20up.ipynb)\n",
    "\n",
    "[Unit 3 - Number Crunching](Unit%203%20-%20Number%20Crunching.ipynb)\n",
    "\n",
    "[Unit 4 - The Plot Thickens](Unit%204%20-%20The%20Plot%20Thickens.ipynb)\n",
    "\n",
    "[Unit Exercises](Unit%20Exercises.ipynb)"
   ]
  }
 ],
 "metadata": {
  "kernelspec": {
   "display_name": "Python 3",
   "language": "python",
   "name": "python3"
  },
  "language_info": {
   "codemirror_mode": {
    "name": "ipython",
    "version": 3
   },
   "file_extension": ".py",
   "mimetype": "text/x-python",
   "name": "python",
   "nbconvert_exporter": "python",
   "pygments_lexer": "ipython3",
   "version": "3.7.1"
  }
 },
 "nbformat": 4,
 "nbformat_minor": 2
}
