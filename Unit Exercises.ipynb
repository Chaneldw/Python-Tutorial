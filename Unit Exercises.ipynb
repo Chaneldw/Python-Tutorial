{
 "cells": [
  {
   "cell_type": "markdown",
   "metadata": {},
   "source": [
    "# Exercises\n",
    "\n",
    "I would recommend using a new (blank) notebook outside of the local repository to practise these questions, otherwise they will be overwritten. To start a new notebook, go to the Notebook Dashboard (it is the tab with the icon of two orange curls, and it lists the files you have available). Then click the New button on the right and select Python 3. After opening it, click on the name Untitled to change it. "
   ]
  },
  {
   "cell_type": "markdown",
   "metadata": {},
   "source": [
    "## Exercise 1.1:\n",
    "\n",
    "Write a program that adds a random float $\\in$ [3, 8) with a random integer $\\in$ [1, 15]. The answer should then be divided by a random float $\\in$ [0, 1). Print each number to test if your answer seems reasonable.\n",
    "\n",
    "Hint: there are 3 functions in the `random` module that are just what you're looking for — it just requires a bit of _help_ (and they start with r and u)."
   ]
  },
  {
   "cell_type": "markdown",
   "metadata": {},
   "source": [
    "## Exercise 1.2:\n",
    "\n",
    "a) Create and change a list of integers step-by-step as shown below.\n",
    " + [0, 3, ..., 27, 30]\n",
    " + [0, 3, ..., 27, 30, 44, 55]\n",
    " + [27, 30, 44, 55, 0, 3, 6, 9]\n",
    " + [27, 30, 44, 55, 0, 3, 9]\n",
    " + [27, 30, 44, 55, 0, 3, 9, 27, 30, 44, 55, 0, 3, 9]\n",
    " + [0, 0, 3, 3, 9, 9, 27, 27, 30, 30, 44, 44, 55, 55]\n",
    "\n",
    "b) Whilst testing your code you may see that the output of previous cells keeps changing when you accidentally rerun them. After your first succesful run, rewrite your code so that this does not happen."
   ]
  },
  {
   "cell_type": "markdown",
   "metadata": {},
   "source": [
    "## Exercise 1.3:\n",
    "\n",
    "Compute the following and display the answer to 4 decimal places:\n",
    "\n",
    "$$ \\frac{\\big(\\sqrt{333} - \\ln(7)\\big)^2}{5! \\log(40) + 2e^{-5}} $$\n",
    "\n",
    "Answer: 1.3823"
   ]
  },
  {
   "cell_type": "markdown",
   "metadata": {},
   "source": [
    "## Exercise 2.1:\n",
    "\n",
    "Approximate the `cos` function with the Taylor series expansion (given below) to within a required accuracy. Select the x value at which you would like to approximate `cos(x)` and check your final answer using `math.cos`. The program must keep on adding terms to the Taylor series approximation until it is within the accuracy of math module's function. Try it using both a for and while loop.\n",
    "\n",
    "$$ \\cos(x) = \\sum^{\\infty}_{n=0} \\frac{(-1)^n}{(2n)!} x^{2n}$$"
   ]
  },
  {
   "cell_type": "markdown",
   "metadata": {},
   "source": [
    "## Exercise 2.2:\n",
    "\n",
    "There is 1 mol of an ideal gas in a piston (expandable container) at 101 kPa. Calculate a list of volume values (in L) as the temperature increases from 25 to 100 °C in steps of 1 °C. Round each volume to 2 decimal places. R is 8.314 $\\frac{kPa L}{mol K}$.\n",
    "\n",
    "Answer: 24.45–30.61 L"
   ]
  },
  {
   "cell_type": "markdown",
   "metadata": {},
   "source": [
    "## Exercise 2.3: \n",
    "\n",
    "According to Perry et al. (2008: 2-170), the heat capacities of inorganic or organic liquids can be computed by the following polynomial, with $ C_{pL} $ in J/(kmol K) and $T$ in K:\n",
    "\n",
    "$$ C_{pL} = C1 + C2T + C3T^2 + C4T^3 + C5T^4 $$\n",
    "\n",
    "The 345 different compounds have between 1 and 5 constants tabulated, with upper and lower temperatures for acceptable use. Write a function that can compute the heat capacity for the following compounds at a certain temperature, but it must display a warning if it is out of the acceptable temperature range. \n",
    "\n",
    "Do not:\n",
    " - Change the given lists below (e.g. by adding zeros); use them as the input\n",
    " - Truncate the polynomial\n",
    " \n",
    "Answer: For water at 400 K, $C_{pL}$ = 76.78 kJ/(kmol K)"
   ]
  },
  {
   "cell_type": "markdown",
   "metadata": {},
   "source": [
    "|    Species    |    C1        |    C2         |    C3       |    C4           |    C5           |    Tmin (K)    |Tmax (K)  |\n",
    "|---------------|--------------|---------------|-------------|-----------------|-----------------|----------------|----------|\n",
    "|    Tolune     |    140140    |    -152.3     |    0.695    |    -            |    -            |    178.18      |500       |\n",
    "|    Water      |    276370    |    -2090.1    |    8.125    |    -0.014116    |    9.3701E-6    |    273.16      |533.15    |"
   ]
  },
  {
   "cell_type": "code",
   "execution_count": 64,
   "metadata": {},
   "outputs": [],
   "source": [
    "const_t = [140140, -152.3, 0.695]\n",
    "temps_t = [178.18, 500]\n",
    "const_w = [276370, -2090.1, 8.125, -0.014116, 9.3701E-6]\n",
    "temps_w = [273.16, 533.15]"
   ]
  },
  {
   "cell_type": "markdown",
   "metadata": {},
   "source": [
    "## Exercise 3.1: \n",
    "\n",
    "Redo Ex 2.2 but with arrays. How much shorter is your code now?"
   ]
  },
  {
   "cell_type": "markdown",
   "metadata": {},
   "source": [
    "## Exercise 3.2:\n",
    "\n",
    "Write a program that asks the user to enter a vector u. The program must then look at every component of vector u and check whether the component is divisible by 2. If it divisible by 2 the program must store a 1 in the position of the even component.\n",
    "Otherwise the program must store a zero in the position of the respective component. The number 0 is an even number.\n",
    "\n",
    "$$ u = [2, 0, -6, 7, 10, -4, -11] $$\n",
    "$$ u_{even} = [1, 1, 1, 0, 1, 1, 0] $$"
   ]
  },
  {
   "cell_type": "markdown",
   "metadata": {},
   "source": [
    "## Exercise 3.3:\n",
    "\n",
    "Matrix A is antisymmetric (skew-symmetric) if it is square and the following holds for all $i$ = 0, 1, 2,..., n and $j$ = 0, 1, 2,..., n:\n",
    "$$ A(i,j) = -A(j,i) $$\n",
    "\n",
    "Write a function that accepts a matrix. The program must then tell the user whether the matrix entered is skew-symmetric or not. Here is an example of an anti-symmetric matrix:\n",
    "\n",
    "\\begin{bmatrix}\n",
    "0 & 1 & -2 & 3 \\\\\n",
    "-1 & 0 & 4 & -5 \\\\\n",
    "2 & -4 & 0 & 6 \\\\\n",
    "-3 & 5 & -6 & 0\n",
    "\\end{bmatrix}"
   ]
  },
  {
   "cell_type": "code",
   "execution_count": null,
   "metadata": {},
   "outputs": [],
   "source": []
  }
 ],
 "metadata": {
  "kernelspec": {
   "display_name": "Python 3",
   "language": "python",
   "name": "python3"
  },
  "language_info": {
   "codemirror_mode": {
    "name": "ipython",
    "version": 3
   },
   "file_extension": ".py",
   "mimetype": "text/x-python",
   "name": "python",
   "nbconvert_exporter": "python",
   "pygments_lexer": "ipython3",
   "version": "3.7.1"
  }
 },
 "nbformat": 4,
 "nbformat_minor": 2
}
