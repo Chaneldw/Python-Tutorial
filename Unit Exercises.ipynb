{
 "cells": [
  {
   "cell_type": "markdown",
   "metadata": {},
   "source": [
    "# Exercises"
   ]
  },
  {
   "cell_type": "markdown",
   "metadata": {},
   "source": [
    "### Exercise 1.1:\n",
    "\n",
    "Write a program that adds a random float $\\in$ [3, 8) with a random integer $\\in$ [1, 15]. The answer should then be divided by a random float $\\in$ [0, 1). Print each number to test if your answer seems reasonable.\n",
    "\n",
    "Hint: there are 3 functions in the `random` module that are just what you're looking for — it just requires a bit of _help_."
   ]
  },
  {
   "cell_type": "code",
   "execution_count": null,
   "metadata": {},
   "outputs": [],
   "source": []
  },
  {
   "cell_type": "markdown",
   "metadata": {},
   "source": [
    "### Exercise 1.2:\n",
    "\n",
    "a) Create and change a list of integers step-by-step as shown below.\n",
    " + [0, 3, ..., 27, 30]\n",
    " + [0, 3, ..., 27, 30, 44, 55]\n",
    " + [27, 30, 44, 55, 0, 3, 6, 9]\n",
    " + [27, 30, 44, 55, 0, 3, 9]\n",
    " + [27, 30, 44, 55, 0, 3, 9, 27, 30, 44, 55, 0, 3, 9]\n",
    " + [0, 0, 3, 3, 9, 9, 27, 27, 30, 30, 44, 44, 55, 55]\n",
    "\n",
    "b) Whilst testing your code you may see that the output of previous cells keeps changing when you accidentally rerun them. After your 1st succesful run, rewrite your code so that this does not happen."
   ]
  },
  {
   "cell_type": "markdown",
   "metadata": {},
   "source": [
    "### Exercise 2.1:\n",
    "\n",
    "There is 1 mol of an ideal gas in a piston (expandable container) at 101 kPa. Calculate a list of volume values (in L) as the temperature increases from 25 to 100 °C. R is 8.314 $\\frac{kPa L}{mol K}$.\n",
    "\n",
    "Answer: 24.45–30.31 L"
   ]
  },
  {
   "cell_type": "markdown",
   "metadata": {},
   "source": [
    "### Exercise 2.2: \n",
    "\n",
    "According to Perry et al. (2008, 2-170), the heat capacities of inorganic or organic liquids can be computed by the following polynomial, with $ C_{pL} $ in J/(kmol K) and $T$ in K:\n",
    "\n",
    "$$ C_{pL} = C1 + C2T + C3T^2 + C4T^3 + C5T^4 $$\n",
    "\n",
    "The 345 different compounds have between 1 and 5 constants tabulated, with upper and lower temperatures for acceptable use. Write a function that can compute the heat capacity for the following compounds at a certain temperature, but it must display a warning if it is out of the acceptable temperature range. \n",
    "\n",
    "Do not:\n",
    " - Change the given lists below (e.g. by adding zeros); use them as the input\n",
    " - Truncate the polynomial\n",
    " \n",
    "Answer: For water at 400 K, $C_{pL}$ = 76.78 kJ/(kmol K)"
   ]
  },
  {
   "cell_type": "markdown",
   "metadata": {},
   "source": [
    "|    Species    |    C1        |    C2         |    C3       |    C4           |    C5           |    Tmin (K)    |Tmax (K)  |\n",
    "|---------------|--------------|---------------|-------------|-----------------|-----------------|----------------|----------|\n",
    "|    Tolune     |    140140    |    -152.3     |    0.695    |    -            |    -            |    178.18      |500       |\n",
    "|    Water      |    276370    |    -2090.1    |    8.125    |    -0.014116    |    9.3701E-6    |    273.16      |533.15    |"
   ]
  },
  {
   "cell_type": "code",
   "execution_count": 64,
   "metadata": {},
   "outputs": [],
   "source": [
    "const_t = [140140, -152.3, 0.695]\n",
    "temps_t = [178.18, 500]\n",
    "const_w = [276370, -2090.1, 8.125, -0.014116, 9.3701E-6]\n",
    "temps_w = [273.16, 533.15]"
   ]
  },
  {
   "cell_type": "markdown",
   "metadata": {},
   "source": [
    "### Exercise 3.1: \n",
    "\n",
    "Redo Ex 2.1 but with arrays. How much shorter is your code now?"
   ]
  },
  {
   "cell_type": "code",
   "execution_count": null,
   "metadata": {},
   "outputs": [],
   "source": []
  }
 ],
 "metadata": {
  "kernelspec": {
   "display_name": "Python 3",
   "language": "python",
   "name": "python3"
  },
  "language_info": {
   "codemirror_mode": {
    "name": "ipython",
    "version": 3
   },
   "file_extension": ".py",
   "mimetype": "text/x-python",
   "name": "python",
   "nbconvert_exporter": "python",
   "pygments_lexer": "ipython3",
   "version": "3.7.1"
  }
 },
 "nbformat": 4,
 "nbformat_minor": 2
}
